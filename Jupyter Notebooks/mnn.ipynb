{
 "cells": [
  {
   "cell_type": "code",
   "execution_count": 3,
   "metadata": {},
   "outputs": [
    {
     "name": "stdout",
     "output_type": "stream",
     "text": [
      "scanpy==1.2.2+166.g6c1daba anndata==0.6.9 numpy==1.14.2 scipy==1.0.1 pandas==0.22.0 scikit-learn==0.19.1 statsmodels==0.8.0 python-igraph==0.7.1 louvain==0.6.1 \n"
     ]
    }
   ],
   "source": [
    "import numpy as np\n",
    "import pandas as pd\n",
    "import scanpy.api as sc\n",
    "import anndata\n",
    "import time\n",
    "import wget\n",
    "from datetime import timedelta\n",
    "sc.settings.verbosity = 3  # verbosity: errors (0), warnings (1), info (2), hints (3)\n",
    "sc.settings.set_figure_params(dpi=80)  # low dpi (dots per inch) yields small inline figures\n",
    "sc.logging.print_versions()"
   ]
  },
  {
   "cell_type": "code",
   "execution_count": 4,
   "metadata": {},
   "outputs": [],
   "source": [
    "train_path = \"../data/pancreas.h5ad\"\n",
    "if os.path.isfile(train_path):\n",
    "    adata = sc.read(train_path)\n",
    "else:\n",
    "    train_url = \"https://www.dropbox.com/s/zvmt8oxhfksumw2/pancreas.h5ad?dl=1\"\n",
    "    t_dl = wget.download(train_url, train_path)\n",
    "    adata = sc.read(train_path)\n",
    "adata = anndata.AnnData(X=np.expm1(adata.raw.X), var=adata.raw.var, obs=adata.obs)\n",
    "sc.pp.normalize_per_cell(adata, counts_per_cell_after=1e4)\n",
    "filter_result = sc.pp.filter_genes_dispersion(\n",
    "    adata.X, min_mean=0.0125, max_mean=2.5, min_disp=0.7)\n",
    "adata = adata[:, filter_result.gene_subset]\n",
    "sc.pp.log1p(adata)"
   ]
  },
  {
   "cell_type": "code",
   "execution_count": 5,
   "metadata": {},
   "outputs": [],
   "source": [
    "%load_ext rpy2.ipython"
   ]
  },
  {
   "cell_type": "code",
   "execution_count": 6,
   "metadata": {},
   "outputs": [],
   "source": [
    "%%R\n",
    "\n",
    "if (!('scran' %in% rownames(installed.packages())))\n",
    "{\n",
    "    source(\"https://bioconductor.org/biocLite.R\")\n",
    "    biocLite(\"scran\")\n",
    "}"
   ]
  },
  {
   "cell_type": "code",
   "execution_count": 7,
   "metadata": {},
   "outputs": [],
   "source": [
    "df1 = pd.DataFrame(data=adata[adata.obs['sample']=='Baron'].X.todense().transpose(),\n",
    "                  index=adata[adata.obs['sample']=='Baron'].var_names,\n",
    "                  columns=adata[adata.obs['sample']=='Baron'].obs_names)\n",
    "\n",
    "df2 = pd.DataFrame(data=adata[adata.obs['sample']=='Muraro'].X.todense().transpose(),\n",
    "                  index=adata[adata.obs['sample']=='Muraro'].var_names,\n",
    "                  columns=adata[adata.obs['sample']=='Muraro'].obs_names)\n",
    "\n",
    "df3 = pd.DataFrame(data=adata[adata.obs['sample']=='Segerstolpe'].X.todense().transpose(),\n",
    "                  index=adata[adata.obs['sample']=='Segerstolpe'].var_names,\n",
    "                  columns=adata[adata.obs['sample']=='Segerstolpe'].obs_names)\n",
    "\n",
    "df4 = pd.DataFrame(data=adata[adata.obs['sample']=='Wang'].X.todense().transpose(),\n",
    "                  index=adata[adata.obs['sample']=='Wang'].var_names,\n",
    "                  columns=adata[adata.obs['sample']=='Wang'].obs_names)"
   ]
  },
  {
   "cell_type": "code",
   "execution_count": 8,
   "metadata": {},
   "outputs": [
    {
     "data": {
      "text/plain": [
       "Time difference of 15.60589 mins\n"
      ]
     },
     "metadata": {},
     "output_type": "display_data"
    }
   ],
   "source": [
    "%%R -i df1 -i df2 -i df3 -i df4 -o odf1 -o odf2 -o odf3 -o odf4\n",
    "\n",
    "suppressMessages(library(scran))\n",
    "\n",
    "t1 = Sys.time()\n",
    "mnncount = mnnCorrect(data.matrix(df1), data.matrix(df2), data.matrix(df3), data.matrix(df4), \n",
    "                      BPPARAM=MulticoreParam(detectCores()))\n",
    "t2 = Sys.time()\n",
    "print(t2-t1)\n",
    "\n",
    "odf1 = data.frame(mnncount$corrected[[1]])\n",
    "odf2 = data.frame(mnncount$corrected[[2]])\n",
    "odf3 = data.frame(mnncount$corrected[[3]])\n",
    "odf4 = data.frame(mnncount$corrected[[4]])"
   ]
  },
  {
   "cell_type": "code",
   "execution_count": 9,
   "metadata": {},
   "outputs": [],
   "source": [
    "adata_mnncorrect = adata.copy()\n",
    "adata_mnncorrect.X = np.concatenate((odf1.values.T, odf2.values.T, odf3.values.T, odf4.values.T))\n",
    "sc.pp.scale(adata_mnncorrect, max_value=10)"
   ]
  },
  {
   "cell_type": "code",
   "execution_count": 10,
   "metadata": {},
   "outputs": [],
   "source": [
    "adata_mnncorrect.write(\"../mnn.h5ad\")"
   ]
  }
 ],
 "metadata": {
  "kernelspec": {
   "display_name": "Python 3",
   "language": "python",
   "name": "python3"
  },
  "language_info": {
   "codemirror_mode": {
    "name": "ipython",
    "version": 3
   },
   "file_extension": ".py",
   "mimetype": "text/x-python",
   "name": "python",
   "nbconvert_exporter": "python",
   "pygments_lexer": "ipython3",
   "version": "3.6.3"
  }
 },
 "nbformat": 4,
 "nbformat_minor": 2
}
