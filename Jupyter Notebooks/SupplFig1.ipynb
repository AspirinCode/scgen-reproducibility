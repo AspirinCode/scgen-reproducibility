{
 "cells": [
  {
   "cell_type": "code",
   "execution_count": 1,
   "metadata": {},
   "outputs": [
    {
     "name": "stderr",
     "output_type": "stream",
     "text": [
      "Using TensorFlow backend.\n"
     ]
    }
   ],
   "source": [
    "import os \n",
    "import numpy as np\n",
    "import pandas as pd\n",
    "import anndata\n",
    "import scanpy as sc\n",
    "import matplotlib.pyplot as plt\n",
    "import scgen\n",
    "from scipy import stats\n",
    "import matplotlib\n",
    "import seaborn as sns\n",
    "from sklearn.metrics.pairwise import cosine_similarity\n",
    "matplotlib.rc('ytick', labelsize=14)\n",
    "matplotlib.rc('xtick', labelsize=14)"
   ]
  },
  {
   "cell_type": "code",
   "execution_count": 2,
   "metadata": {},
   "outputs": [],
   "source": [
    "path_to_save = \"../results/Figures/Supplemental Figure 1/\"\n",
    "os.makedirs(path_to_save, exist_ok=True)\n",
    "sc.settings.figdir = path_to_save"
   ]
  },
  {
   "cell_type": "code",
   "execution_count": 3,
   "metadata": {},
   "outputs": [
    {
     "data": {
      "text/plain": [
       "AnnData object with n_obs × n_vars = 16893 × 6998 \n",
       "    obs: 'condition', 'n_counts', 'n_genes', 'mt_frac', 'cell_type'\n",
       "    var: 'gene_symbol', 'n_cells'\n",
       "    uns: 'cell_type_colors', 'condition_colors', 'neighbors'\n",
       "    obsm: 'X_pca', 'X_tsne', 'X_umap'"
      ]
     },
     "execution_count": 3,
     "metadata": {},
     "output_type": "execute_result"
    }
   ],
   "source": [
    "kang = sc.read(\"../data/train_pbmc.h5ad\")\n",
    "kang"
   ]
  },
  {
   "cell_type": "code",
   "execution_count": null,
   "metadata": {},
   "outputs": [
    {
     "data": {
      "text/plain": [
       "AnnData object with n_obs × n_vars = 5059 × 7000 \n",
       "    obs: 'batch', 'barcode', 'condition', 'cell_label', 'n_counts', 'n_genes', 'mt_frac'\n",
       "    var: 'means', 'dispersions', 'dispersions_norm'\n",
       "    uns: 'cell_label_colors', 'condition_colors', 'neighbors', 'rank_genes_groups'\n",
       "    obsm: 'X_pca', 'X_umap'"
      ]
     },
     "execution_count": 4,
     "metadata": {},
     "output_type": "execute_result"
    }
   ],
   "source": [
    "hpoly = sc.read(\"../data/train_hpoly.h5ad\")\n",
    "hpoly"
   ]
  },
  {
   "cell_type": "code",
   "execution_count": null,
   "metadata": {},
   "outputs": [
    {
     "data": {
      "text/plain": [
       "AnnData object with n_obs × n_vars = 4259 × 7000 \n",
       "    obs: 'batch', 'barcode', 'condition', 'cell_label', 'n_counts', 'n_genes', 'mt_frac'\n",
       "    var: 'means', 'dispersions', 'dispersions_norm'\n",
       "    uns: 'cell_label_colors', 'condition_colors', 'neighbors', 'rank_genes_groups'\n",
       "    obsm: 'X_pca', 'X_umap'"
      ]
     },
     "execution_count": 5,
     "metadata": {},
     "output_type": "execute_result"
    }
   ],
   "source": [
    "salmonella = sc.read(\"../data/train_salmonella.h5ad\")\n",
    "salmonella"
   ]
  },
  {
   "cell_type": "code",
   "execution_count": null,
   "metadata": {},
   "outputs": [],
   "source": [
    "def plot_binary_classifiers(adata, data_name, cell_type, conditions, cell_type_key):\n",
    "    network = scgen.VAEArith(x_dimension=adata.shape[1], model_path=f\"../models/{data_name}/{cell_type}/models/scgen\")\n",
    "    network.restore_model()\n",
    "    unperturbed_data = adata[((adata.obs[cell_type_key] == cell_type) & (adata.obs[\"condition\"] == conditions[\"ctrl\"]))]\n",
    "    pred, delta = network.predict(adata=adata, \n",
    "                                  adata_to_predict=unperturbed_data, \n",
    "                                  conditions=conditions,\n",
    "                                  cell_type_key=cell_type_key,\n",
    "                                  condition_key=\"condition\")\n",
    "    scgen.plotting.binary_classifier(network, adata, delta, condition_key=\"condition\",\n",
    "                                     conditions=conditions,\n",
    "                                     fontsize=18,\n",
    "                                     path_to_save=os.path.join(path_to_save, f\"SupplFig1b_{data_name}_{cell_type}.pdf\"))"
   ]
  },
  {
   "cell_type": "code",
   "execution_count": null,
   "metadata": {},
   "outputs": [],
   "source": [
    "conditions = {\"ctrl\": \"control\", \"stim\": \"stimulated\"}\n",
    "plot_binary_classifiers(kang, \"pbmc\", \"CD4T\", conditions, \"cell_type\")"
   ]
  },
  {
   "cell_type": "code",
   "execution_count": null,
   "metadata": {},
   "outputs": [],
   "source": [
    "conditions = {\"ctrl\": \"Control\", \"stim\": \"Hpoly.Day10\"}\n",
    "plot_binary_classifiers(hpoly, \"hpoly\", \"TA.Early\", conditions, \"cell_label\")"
   ]
  },
  {
   "cell_type": "code",
   "execution_count": null,
   "metadata": {},
   "outputs": [],
   "source": [
    "conditions = {\"ctrl\": \"Control\", \"stim\": \"Salmonella\"}\n",
    "plot_binary_classifiers(salmonella, \"salmonella\", \"Endocrine\", conditions, \"cell_label\")"
   ]
  },
  {
   "cell_type": "code",
   "execution_count": null,
   "metadata": {},
   "outputs": [],
   "source": [
    "train_data = sc.read(\"../data/train_pbmc.h5ad\")\n",
    "train_data_real = train_data[~((train_data.obs[\"condition\"] == \"stimulated\") & (train_data.obs[\"cell_type\"] == \"CD4T\"))]"
   ]
  },
  {
   "cell_type": "code",
   "execution_count": null,
   "metadata": {},
   "outputs": [],
   "source": [
    "train_data.obs[\"cell_type\"].cat.reorder_categories([ 'B', 'CD4T', 'CD8T', 'CD14+Mono','Dendritic', 'FCGR3A+Mono',\"NK\" ],\\\n",
    "                                       inplace=True, ordered=True)\n",
    "train_data.rename_categories(\"cell_type\",['B', 'CD4-T', 'CD8-T', 'CD14-Mono', 'DC', 'F-Mono', 'NK'],)"
   ]
  },
  {
   "cell_type": "code",
   "execution_count": null,
   "metadata": {},
   "outputs": [],
   "source": [
    "network = scgen.VAEArith(x_dimension=train_data.shape[1], z_dimension=100, model_path=\"../models/pbmc/CD4T/models/scgen\")\n",
    "network.restore_model()\n",
    "all_data = network.to_latent(train_data.X.A)\n",
    "adata_all = sc.AnnData(all_data)\n",
    "adata_all.obs[\"condition\"] = train_data.obs[\"condition\"].tolist()\n",
    "adata_all.obs[\"cell_type\"] = train_data.obs[\"cell_type\"].tolist()\n",
    "adata_all"
   ]
  },
  {
   "cell_type": "code",
   "execution_count": null,
   "metadata": {},
   "outputs": [],
   "source": [
    "train_real_cd = train_data_real[train_data_real.obs[\"condition\"] == \"control\",:]\n",
    "train_real_cd = scgen.util.balancer(train_real_cd)\n",
    "train_real_stim = train_data_real[train_data_real.obs[\"condition\"] == \"stimulated\",:]\n",
    "train_real_stim = scgen.util.balancer(train_real_stim)\n",
    "target = scgen.util.extractor(train_data_real, \"CD4-T\", conditions={\"stim\": \"stimulated\", \"ctrl\": \"control\"})"
   ]
  },
  {
   "cell_type": "code",
   "execution_count": null,
   "metadata": {},
   "outputs": [],
   "source": [
    "latent_stim = network.to_latent(train_real_stim.X)\n",
    "latent_cd = network.to_latent(train_real_cd.X)"
   ]
  },
  {
   "cell_type": "code",
   "execution_count": null,
   "metadata": {},
   "outputs": [],
   "source": [
    "eq = min(len(latent_cd),len(latent_stim))\n",
    "cd_ind = np.random.choice(range(len(latent_cd)),size=eq,replace=False)\n",
    "HFD_ind = np.random.choice(range(len(latent_stim)),size=eq,replace=False)"
   ]
  },
  {
   "cell_type": "code",
   "execution_count": null,
   "metadata": {},
   "outputs": [],
   "source": [
    "delta_average = latent_stim[HFD_ind,:].mean(0) - latent_cd[cd_ind,:].mean(0)"
   ]
  },
  {
   "cell_type": "code",
   "execution_count": null,
   "metadata": {},
   "outputs": [],
   "source": [
    "latent_stim = sc.AnnData(latent_stim)\n",
    "latent_stim.obs[\"condition\"] = train_real_stim.obs[\"condition\"]\n",
    "latent_stim.obs[\"cell_type\"] = train_real_stim.obs[\"cell_type\"]\n",
    "latent_cd = sc.AnnData(latent_cd)\n",
    "latent_cd.obs[\"condition\"] = train_real_cd.obs[\"condition\"]\n",
    "latent_cd.obs[\"cell_type\"] = train_real_cd.obs[\"cell_type\"]"
   ]
  },
  {
   "cell_type": "code",
   "execution_count": null,
   "metadata": {},
   "outputs": [],
   "source": [
    "cell_types = np.unique(adata_all.obs[\"cell_type\"])"
   ]
  },
  {
   "cell_type": "code",
   "execution_count": null,
   "metadata": {},
   "outputs": [],
   "source": [
    "celladata = adata_all[adata_all.obs[\"cell_type\"] == \"CD4T\"]\n",
    "stim_all = adata_all[adata_all.obs[\"condition\"] == \"stimulated\"]\n",
    "ctrl_all = adata_all[adata_all.obs[\"condition\"] == \"control\"]"
   ]
  },
  {
   "cell_type": "code",
   "execution_count": null,
   "metadata": {},
   "outputs": [],
   "source": [
    "delta = np.zeros((7,7,100))\n",
    "labels = []\n",
    "for i,j in enumerate(cell_types) :\n",
    "    for m,n in enumerate(cell_types):\n",
    "        stim = stim_all[(stim_all.obs[\"cell_type\"] == j)].X\n",
    "        cd = ctrl_all[(ctrl_all.obs[\"cell_type\"] == n)].X\n",
    "        if j == n:\n",
    "            labels.append(\"cross_stim\")\n",
    "        else:\n",
    "            labels.append(\"cross_celltype\")\n",
    "        eq = min(len(stim),len(cd))\n",
    "        cd_ind = np.random.choice(range(len(cd)),size=eq,replace=False)\n",
    "        stim_ind = np.random.choice(range(len(stim)),size=eq,replace=False)\n",
    "\n",
    "        delta[i,m,:] = stim[stim_ind,:].mean(0) - cd[cd_ind,:].mean(0)"
   ]
  },
  {
   "cell_type": "code",
   "execution_count": null,
   "metadata": {},
   "outputs": [],
   "source": [
    "delta_cross = np.zeros((7,7,100))\n",
    "labels = []\n",
    "for i,j in enumerate(cell_types) :\n",
    "    for m,n in enumerate(cell_types):\n",
    "        stim = adata_all[(adata_all.obs[\"cell_type\"] == j)].X\n",
    "        cd = adata_all[(adata_all.obs[\"cell_type\"] == n)].X\n",
    "        if j == n:\n",
    "            continue\n",
    "        eq = min(len(stim),len(cd))\n",
    "        cd_ind = np.random.choice(range(len(cd)),size=eq,replace=False)\n",
    "        stim_ind = np.random.choice(range(len(stim)),size=eq,replace=False)\n",
    "        delta_cross[i,m,:] = stim[stim_ind,:].mean(0) - cd[cd_ind,:].mean(0)"
   ]
  },
  {
   "cell_type": "code",
   "execution_count": null,
   "metadata": {},
   "outputs": [],
   "source": [
    "delta_cross = delta_cross[np.triu_indices(7, k = 1)]\n",
    "delta = delta[np.triu_indices(7, k = 1)]\n",
    "\n"
   ]
  },
  {
   "cell_type": "code",
   "execution_count": null,
   "metadata": {},
   "outputs": [],
   "source": [
    "delta = np.zeros((7,7,100))\n",
    "labels = []\n",
    "for i,j in enumerate(cell_types) :\n",
    "    for m,n in enumerate(cell_types):\n",
    "        stim = stim_all[(stim_all.obs[\"cell_type\"] == j)].X\n",
    "        cd = ctrl_all[(ctrl_all.obs[\"cell_type\"] == n)].X\n",
    "        if j == n:\n",
    "            labels.append(\"cross_stim\")\n",
    "        else:\n",
    "            labels.append(\"cross_celltype\")\n",
    "        eq = min(len(stim),len(cd))\n",
    "        cd_ind = np.random.choice(range(len(cd)),size=eq,replace=False)\n",
    "        stim_ind = np.random.choice(range(len(stim)),size=eq,replace=False)\n",
    "\n",
    "        delta[i,m,:] = stim[stim_ind,:].mean(0) - cd[cd_ind,:].mean(0)"
   ]
  },
  {
   "cell_type": "code",
   "execution_count": null,
   "metadata": {},
   "outputs": [],
   "source": [
    "delta_g = np.zeros((7,100))\n",
    "for i,j in enumerate(cell_types) :\n",
    "        stim = stim_all[(stim_all.obs[\"cell_type\"] == j)].X\n",
    "        cd = adata_all[(adata_all.obs[\"cell_type\"] == j)].X\n",
    "        eq = min(len(stim),len(cd))\n",
    "        cd_ind = np.random.choice(range(len(cd)),size=eq,replace=False)\n",
    "        stim_ind = np.random.choice(range(len(stim)),size=eq,replace=False)\n",
    "\n",
    "        delta_g[i,:] = stim[stim_ind,:].mean(0) - cd[cd_ind,:].mean(0)"
   ]
  },
  {
   "cell_type": "code",
   "execution_count": null,
   "metadata": {},
   "outputs": [],
   "source": [
    "t1 = cosine_similarity(delta_cross,delta_average.reshape(1,100))\n",
    "h1 = cosine_similarity(delta_g,delta_average.reshape(1,100))"
   ]
  },
  {
   "cell_type": "code",
   "execution_count": null,
   "metadata": {},
   "outputs": [],
   "source": [
    "random_vec = np.random.normal(size=(1000,100))\n",
    "k = cosine_similarity(random_vec)\n",
    "k = k[np.triu_indices(1000, k = 1)]"
   ]
  },
  {
   "cell_type": "code",
   "execution_count": null,
   "metadata": {},
   "outputs": [],
   "source": [
    "values = np.concatenate([t1.flatten(),h1.flatten(),k.flatten()])\n",
    "type_val = [r'$\\delta_{celltype-ij}$']*len(t1.flatten()) + [r'$\\delta_{stim-k}$']*len(h1.flatten()) + \\\n",
    "[\"random\"]*len(k.flatten())\n",
    "df3 = pd.DataFrame({\"cosine similarity\"  : values , \"type\" : type_val})\n",
    "sns.violinplot(y=\"cosine similarity\", x=\"type\", data=df3)\n",
    "plt.xticks(rotation=90, fontsize=18)\n",
    "plt.ylabel(\"cosine similarity\", fontsize=18)\n",
    "plt.xlabel(\"type\", fontsize=18)\n",
    "plt.tight_layout()\n",
    "plt.savefig(os.path.join(path_to_save, \"SupplFig1c_box_degree_delta_random.pdf\"))"
   ]
  }
 ],
 "metadata": {
  "kernelspec": {
   "display_name": "Python 3",
   "language": "python",
   "name": "python3"
  },
  "language_info": {
   "codemirror_mode": {
    "name": "ipython",
    "version": 3
   },
   "file_extension": ".py",
   "mimetype": "text/x-python",
   "name": "python",
   "nbconvert_exporter": "python",
   "pygments_lexer": "ipython3",
   "version": "3.6.8"
  }
 },
 "nbformat": 4,
 "nbformat_minor": 2
}
